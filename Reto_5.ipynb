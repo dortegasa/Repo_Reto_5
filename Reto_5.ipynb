{
 "cells": [
  {
   "cell_type": "code",
   "execution_count": 4,
   "metadata": {},
   "outputs": [
    {
     "name": "stdout",
     "output_type": "stream",
     "text": [
      "El número corresponde a una vocal minúscula.\n"
     ]
    }
   ],
   "source": [
    "#primer punto\n",
    "a = int(input(\"Ingrese un número entero: \"))\n",
    "\n",
    "if a == 97 or a == 101 or a == 105 or a == 111 or a == 117:\n",
    "    print(\"El número corresponde a una vocal minúscula.\")\n",
    "else:\n",
    "    print(\"El número NO corresponde a una vocal minúscula.\")\n"
   ]
  },
  {
   "cell_type": "code",
   "execution_count": 8,
   "metadata": {},
   "outputs": [
    {
     "name": "stdout",
     "output_type": "stream",
     "text": [
      "El código ASCII de la primera letra es impar.\n"
     ]
    }
   ],
   "source": [
    "a = input(\"Ingrese una a de longitud 1: \")\n",
    "b = ord(a[0])\n",
    "\n",
    "if b % 2 == 0:\n",
    "    print(\"El código ASCII de la primera letra es par.\")\n",
    "else:\n",
    "    print(\"El código ASCII de la primera letra es impar.\")\n"
   ]
  },
  {
   "cell_type": "code",
   "execution_count": null,
   "metadata": {},
   "outputs": [],
   "source": [
    "a = input(\"Ingrese un carácter: \")\n",
    "\n",
    "if a >= '0' and a <= '9':\n",
    "    print(\"El carácter ingresado es un dígito.\")\n",
    "else:\n",
    "    print(\"El carácter ingresado NO es un dígito.\")\n"
   ]
  },
  {
   "cell_type": "code",
   "execution_count": 12,
   "metadata": {},
   "outputs": [
    {
     "name": "stdout",
     "output_type": "stream",
     "text": [
      "El numero 3.0 es positivo\n"
     ]
    }
   ],
   "source": [
    "a=float(input(\"Ingrese un numero: \"))\n",
    "if a<0:\n",
    "    print(\"El numero \"+str(a)+\" es negativo\")\n",
    "elif a>0:\n",
    "    print(\"El numero \"+str(a)+\" es positivo\")\n",
    "elif a==0:\n",
    "    print(\"el numero \"+str(a)+\" es neutro para la suma\")\n",
    "else:\n",
    "    print(\"Lo digitado no sigue los parametros\")"
   ]
  },
  {
   "cell_type": "code",
   "execution_count": 13,
   "metadata": {},
   "outputs": [
    {
     "name": "stdout",
     "output_type": "stream",
     "text": [
      "El punto está dentro del círculo.\n"
     ]
    }
   ],
   "source": [
    "x = float(input(\"Ingrese la coordenada x del punto: \"))\n",
    "y = float(input(\"Ingrese la coordenada y del punto: \"))\n",
    "a = float(input(\"Ingrese la coordenada x del centro del círculo: \"))\n",
    "b = float(input(\"Ingrese la coordenada y del centro del círculo: \"))\n",
    "r = float(input(\"Ingrese el radio del círculo: \"))\n",
    "d = ((x - a)**2 + (y - b)**2)**0.5\n",
    "\n",
    "if d < r:\n",
    "    print(\"El punto está dentro del círculo.\")\n",
    "else:\n",
    "    print(\"El punto NO está dentro del círculo.\")\n"
   ]
  },
  {
   "cell_type": "code",
   "execution_count": 17,
   "metadata": {},
   "outputs": [
    {
     "name": "stdout",
     "output_type": "stream",
     "text": [
      "No se puede construir un triángulo con estas longitudes.\n"
     ]
    }
   ],
   "source": [
    "a = float(input(\"Ingrese la longitud del primer lado: \"))\n",
    "b = float(input(\"Ingrese la longitud del segundo lado: \"))\n",
    "c = float(input(\"Ingrese la longitud del tercer lado: \"))\n",
    "if (a + b > c) and (a + c > b) and (b + c > a):\n",
    "    print(\"Se puede construir un triángulo con estas longitudes.\")\n",
    "else:\n",
    "    print(\"No se puede construir un triángulo con estas longitudes.\")\n"
   ]
  }
 ],
 "metadata": {
  "kernelspec": {
   "display_name": "Python 3",
   "language": "python",
   "name": "python3"
  },
  "language_info": {
   "codemirror_mode": {
    "name": "ipython",
    "version": 3
   },
   "file_extension": ".py",
   "mimetype": "text/x-python",
   "name": "python",
   "nbconvert_exporter": "python",
   "pygments_lexer": "ipython3",
   "version": "3.11.2"
  },
  "orig_nbformat": 4
 },
 "nbformat": 4,
 "nbformat_minor": 2
}
